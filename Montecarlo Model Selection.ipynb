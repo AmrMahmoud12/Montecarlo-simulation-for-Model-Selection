{
 "cells": [
  {
   "cell_type": "code",
   "execution_count": 1,
   "metadata": {
    "_cell_guid": "0e3d0d90-2f12-48f3-bc49-b1ef08088fe9",
    "_uuid": "dee7d276e135c69170fbe7eb3f7bed01d60db8e2"
   },
   "outputs": [
    {
     "ename": "FileNotFoundError",
     "evalue": "[Errno 2] No such file or directory: '../input'",
     "output_type": "error",
     "traceback": [
      "\u001b[0;31m---------------------------------------------------------------------------\u001b[0m",
      "\u001b[0;31mFileNotFoundError\u001b[0m                         Traceback (most recent call last)",
      "\u001b[0;32m<ipython-input-1-e11ac1bc414b>\u001b[0m in \u001b[0;36m<module>\u001b[0;34m\u001b[0m\n\u001b[1;32m      5\u001b[0m \u001b[0;34m\u001b[0m\u001b[0m\n\u001b[1;32m      6\u001b[0m \u001b[0;32mimport\u001b[0m \u001b[0mos\u001b[0m\u001b[0;34m\u001b[0m\u001b[0;34m\u001b[0m\u001b[0m\n\u001b[0;32m----> 7\u001b[0;31m \u001b[0mprint\u001b[0m\u001b[0;34m(\u001b[0m\u001b[0mos\u001b[0m\u001b[0;34m.\u001b[0m\u001b[0mlistdir\u001b[0m\u001b[0;34m(\u001b[0m\u001b[0;34m\"../input\"\u001b[0m\u001b[0;34m)\u001b[0m\u001b[0;34m)\u001b[0m\u001b[0;34m\u001b[0m\u001b[0;34m\u001b[0m\u001b[0m\n\u001b[0m\u001b[1;32m      8\u001b[0m \u001b[0;34m\u001b[0m\u001b[0m\n\u001b[1;32m      9\u001b[0m \u001b[0;32mimport\u001b[0m \u001b[0msys\u001b[0m\u001b[0;34m\u001b[0m\u001b[0;34m\u001b[0m\u001b[0m\n",
      "\u001b[0;31mFileNotFoundError\u001b[0m: [Errno 2] No such file or directory: '../input'"
     ]
    }
   ],
   "source": [
    "import numpy as np\n",
    "import pandas as pd\n",
    "import csv\n",
    "from sklearn.model_selection import train_test_split\n",
    "\n",
    "import os\n",
    "print(os.listdir(\"../input\"))\n",
    "\n",
    "import sys \n",
    "\n",
    "sys.path.append ('../input/montecarlomodelselection-functions/')\n",
    "from MonteCarloModelSelection_Functions import *      \n",
    "\n",
    "\n",
    "%matplotlib inline\n",
    "%autosave 0"
   ]
  },
  {
   "cell_type": "code",
   "execution_count": null,
   "metadata": {
    "_cell_guid": "bf058cea-a3e5-4892-ab1e-f484b5a36dc6",
    "_uuid": "26950291e7034aded930f62441a1dad2cad1c493",
    "collapsed": true
   },
   "outputs": [],
   "source": [
    "# Loading dataset creditcard\n",
    "filename = '../input/creditcardfraud/creditcard.csv'   \n",
    "\n",
    "with open(filename, 'r') as f:\n",
    "    reader=csv.reader(f, delimiter=',') \n",
    "    labels=next(reader)\n",
    "\n",
    "    raw_data=[]\n",
    "    for row in reader:\n",
    "        raw_data.append(row)\n",
    "\n",
    "data = np.array(raw_data)\n",
    "data = data.astype(np.float)"
   ]
  },
  {
   "cell_type": "code",
   "execution_count": null,
   "metadata": {
    "_cell_guid": "e8d8deb2-d7ff-48c8-b649-7a7e7940cf66",
    "_uuid": "cb3ec2f56bad69f305c04bbc61fa2ed6260128b5",
    "collapsed": true
   },
   "outputs": [],
   "source": [
    "# Setting target and data\n",
    "target = data[:,-1]\n",
    "dataAmount   = data[:,29]\n",
    "data   = data[:,1:29]\n",
    "\n",
    "# Normalising Amount column \n",
    "dataAmountNormalize = np.array((dataAmount-np.mean(dataAmount))/np.std(dataAmount))\n",
    "data = np.c_[ data,dataAmountNormalize]"
   ]
  },
  {
   "cell_type": "code",
   "execution_count": null,
   "metadata": {
    "_cell_guid": "31d2ad8f-507e-43c4-aa6f-6709fc5a233a",
    "_uuid": "d63e036931187d3e36ccd2fd88de2c43a4bb38ce",
    "collapsed": true
   },
   "outputs": [],
   "source": [
    "# Output Path\n",
    "path = './output/'"
   ]
  },
  {
   "cell_type": "code",
   "execution_count": null,
   "metadata": {
    "_cell_guid": "f9367bee-d568-4af0-a11c-07c1a5e2cc43",
    "_uuid": "d648234e2db87af58789f8843fcb5e5a529a6a91",
    "collapsed": true
   },
   "outputs": [],
   "source": [
    "# Calculating transformed dataset by means of logit or normal method\n",
    "transformation = 'logit' \n",
    "transformed_dataset = Transformation(data, target, transformation)"
   ]
  },
  {
   "cell_type": "markdown",
   "metadata": {
    "_cell_guid": "885b78e8-5a19-43bf-bf15-83b4336e75d2",
    "_uuid": "4e779c10ab803a5b74c0298a8cbd739fac9b3165"
   },
   "source": [
    "Calculate some metrics, initially we will pay special attention to the sorting capabilities of the different features by using different metrics.\n",
    "\n"
   ]
  },
  {
   "cell_type": "code",
   "execution_count": null,
   "metadata": {
    "_cell_guid": "53414edb-b83e-43b5-99a4-094ba5a8f8aa",
    "_uuid": "71ad023e0531c6858efaad46071182ee7736a556",
    "collapsed": true
   },
   "outputs": [],
   "source": [
    "# Calculating all metric\n",
    "metric ='all'\n",
    "global_pi = Calculate_Metrics(transformed_dataset, target, metric, path, transformation)"
   ]
  },
  {
   "cell_type": "code",
   "execution_count": null,
   "metadata": {
    "_cell_guid": "19cd70bb-f06e-458d-89b3-bb1d0bda588e",
    "_uuid": "e2f3b70df2d7cec1e1e0f5bdb3313f52357b1ad7",
    "collapsed": true
   },
   "outputs": [],
   "source": [
    "# Calculating new datasets with combinations of products of features using distance metric\n",
    "threshold = 0.6\n",
    "transformation = 'logit'\n",
    "metric = 'all'\n",
    "metric_prod = 'distance'\n",
    "new_dataset, new_dataset_df = Products_Analysis(data, transformed_dataset, target, global_pi, metric, metric_prod, transformation, path, threshold)"
   ]
  },
  {
   "cell_type": "code",
   "execution_count": null,
   "metadata": {
    "_cell_guid": "72ba3a5c-b3e1-474b-807b-5670076cee8c",
    "_uuid": "07f2b27170f071baece7b43dcee69a0e84b5b2c8",
    "collapsed": true
   },
   "outputs": [],
   "source": [
    "# Calculating new datasets with combinations of products of features using roc metric\n",
    "threshold = 0.6\n",
    "transformation = 'logit'\n",
    "metric = 'all'\n",
    "metric_prod = 'roc'\n",
    "new_dataset, new_dataset_df = Products_Analysis(data, transformed_dataset, target, global_pi, metric, metric_prod, transformation, path, threshold)"
   ]
  },
  {
   "cell_type": "code",
   "execution_count": null,
   "metadata": {
    "_cell_guid": "9aae31b0-cb18-4470-84d4-f084ca290148",
    "_uuid": "2cab40fad4a6609727bd262ab2be27ab362a65a8",
    "collapsed": true
   },
   "outputs": [],
   "source": [
    "new_dataset_df.tail(20)"
   ]
  },
  {
   "cell_type": "code",
   "execution_count": null,
   "metadata": {
    "_uuid": "c0ad591a5d16694f3427d926811e11d9849c84d1",
    "collapsed": true
   },
   "outputs": [],
   "source": [
    "X_train, X_test, y_train, y_test = train_test_split(new_dataset, target, test_size = 0.3, random_state = 0)"
   ]
  },
  {
   "cell_type": "code",
   "execution_count": null,
   "metadata": {
    "_cell_guid": "7cccc860-d76e-4fb5-8b4d-c045d43e062b",
    "_uuid": "49596b7dd6207a9325dc1fa597468d4a5d15dd75",
    "collapsed": true
   },
   "outputs": [],
   "source": [
    "# Resampling dataset  \n",
    "import warnings\n",
    "warnings.filterwarnings(\"ignore\", category=np.VisibleDeprecationWarning) \n",
    "np.random.seed(10)\n",
    "number_records_fraud = target.sum().astype(int)\n",
    "normal_indices = (target==0).nonzero()[0]\n",
    "fraud_indices = (target==1).nonzero()[0]\n",
    "random_normal_indices = np.random.choice(normal_indices, number_records_fraud, replace = False)\n",
    "random_normal_indices = np.array(random_normal_indices)\n",
    "under_sample_indices = np.concatenate([fraud_indices,random_normal_indices])\n",
    "under_sample_data = new_dataset[under_sample_indices,:]\n",
    "X_undersample = under_sample_data\n",
    "y_undersample = target[under_sample_indices]\n",
    "X_train_undersample, X_test_undersample, y_train_undersample, y_test_undersample = train_test_split(X_undersample, y_undersample, test_size = 0.3, random_state = 0)"
   ]
  },
  {
   "cell_type": "code",
   "execution_count": null,
   "metadata": {
    "_cell_guid": "5c8165fe-54d4-4f5d-80a3-583eef3a3be9",
    "_uuid": "6042d4c41a838a717ec925cd9ecc5b393867a8d4",
    "collapsed": true
   },
   "outputs": [],
   "source": [
    "metric = 'Distance'\n",
    "number_iterations = 10000\n",
    "number_ini_ratio = 5\n",
    "number_final_ratio = 5\n",
    "results= Multivariate_Best_Model(number_iterations, X_train_undersample, y_train_undersample, X_test_undersample, y_test_undersample, metric, path, number_ini_ratio, number_final_ratio)       "
   ]
  },
  {
   "cell_type": "code",
   "execution_count": null,
   "metadata": {
    "_cell_guid": "9362c1a4-1d8d-45fd-9bc0-0e567221d819",
    "_uuid": "f802de7d940ccbc726ac8d8cd0e5fda4986785c4",
    "collapsed": true
   },
   "outputs": [],
   "source": [
    "results.head(5)"
   ]
  },
  {
   "cell_type": "code",
   "execution_count": null,
   "metadata": {
    "_cell_guid": "b180e0ee-e3b6-4993-968c-0e84e3cecbeb",
    "_uuid": "3d026535ca1aa453d23cadd65bc5c12add2aa157",
    "collapsed": true
   },
   "outputs": [],
   "source": [
    "models_list = [i-1 for i in results['Models'][0]]\n",
    "bt = results['Betas'][0]\n",
    "ind_best = models_list \n",
    "X_test_b = X_test_undersample[:,ind_best]\n",
    "X_test_b_1 = np.array([1]*X_test_b.shape[0])\n",
    "X_test_b_ = np.c_[X_test_b_1, X_test_b]\n",
    "xtest_bt = np.ravel(np.dot(X_test_b_,np.transpose(bt)))\n",
    "\n",
    "[tn_u, fp_u, fn_u, tp_u] = Graph(y_test_undersample, xtest_bt)"
   ]
  },
  {
   "cell_type": "code",
   "execution_count": null,
   "metadata": {
    "_cell_guid": "ed0cbddd-8210-40cc-ac78-e9d8bebc77ec",
    "_uuid": "7db1062e8332ca5477730d9aaf96c65b569e78de",
    "collapsed": true
   },
   "outputs": [],
   "source": [
    "models_list = [i-1 for i in results['Models'][0]]\n",
    "bt = results['Betas'][0]\n",
    "ind_best = models_list \n",
    "X_test_b = X_test[:,ind_best]\n",
    "X_test_b_1 = np.array([1]*X_test_b.shape[0])\n",
    "X_test_b_ = np.c_[X_test_b_1, X_test_b]\n",
    "xtest_bt = np.ravel(np.dot(X_test_b_,np.transpose(bt)))\n",
    "\n",
    "[tn, fp, fn, tp]  = Graph(y_test, xtest_bt)"
   ]
  },
  {
   "cell_type": "markdown",
   "metadata": {
    "_cell_guid": "5e029b2c-766c-40a3-add1-6807f9c737af",
    "_uuid": "81feea111caaa903c6e24d7edbd7d8ed271ec15c"
   },
   "source": [
    "### Conclusion \n",
    "The parsimony principle tells us to choose the simplest explanation that fits the evidence. In this work we used a Montecarlo method to find a model that can explain the target variable, proving that by selecting the appropriate features a model as simple as a Logistic Regression with 5 variables produces predictions that are as good as those coming from more complex models."
   ]
  },
  {
   "cell_type": "code",
   "execution_count": null,
   "metadata": {
    "_cell_guid": "077a7e1f-5232-45ec-bbf9-90d259812d78",
    "_uuid": "c181a9da1df01794accfdca9362e61d5e978ecaf",
    "collapsed": true
   },
   "outputs": [],
   "source": []
  }
 ],
 "metadata": {
  "kernelspec": {
   "display_name": "Python 3",
   "language": "python",
   "name": "python3"
  },
  "language_info": {
   "codemirror_mode": {
    "name": "ipython",
    "version": 3
   },
   "file_extension": ".py",
   "mimetype": "text/x-python",
   "name": "python",
   "nbconvert_exporter": "python",
   "pygments_lexer": "ipython3",
   "version": "3.7.3"
  }
 },
 "nbformat": 4,
 "nbformat_minor": 1
}
